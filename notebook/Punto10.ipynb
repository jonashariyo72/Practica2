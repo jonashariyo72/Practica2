{
 "cells": [
  {
   "cell_type": "code",
   "execution_count": null,
   "metadata": {},
   "outputs": [],
   "source": [
    "from src import funcionesPunto10\n",
    "rounds = [\n",
    " {\n",
    " 'Shadow': {'kills': 2, 'assists': 1, 'deaths': True},\n",
    " 'Blaze': {'kills': 1, 'assists': 0, 'deaths': False},\n",
    " 'Viper': {'kills': 1, 'assists': 2, 'deaths': True},\n",
    " 'Frost': {'kills': 0, 'assists': 1, 'deaths': False},\n",
    " 'Reaper': {'kills': 1, 'assists': 1, 'deaths': False}\n",
    " },\n",
    " {\n",
    " 'Shadow': {'kills': 0, 'assists': 2, 'deaths': False},\n",
    " 'Blaze': {'kills': 2, 'assists': 0, 'deaths': True},\n",
    " 'Viper': {'kills': 1, 'assists': 1, 'deaths': False},\n",
    " 'Frost': {'kills': 2, 'assists': 1, 'deaths': True},\n",
    " 'Reaper': {'kills': 0, 'assists': 1, 'deaths': False}\n",
    " },\n",
    " {\n",
    " 'Shadow': {'kills': 1, 'assists': 0, 'deaths': False},\n",
    " 'Blaze': {'kills': 2, 'assists': 2, 'deaths': True},\n",
    " 'Viper': {'kills': 1, 'assists': 1, 'deaths': True},\n",
    " 'Frost': {'kills': 0, 'assists': 1, 'deaths': False},\n",
    " 'Reaper': {'kills': 1, 'assists': 1, 'deaths': False}\n",
    " },\n",
    " {\n",
    " 'Shadow': {'kills': 2, 'assists': 1, 'deaths': False},\n",
    " 'Blaze': {'kills': 1, 'assists': 0, 'deaths': True},\n",
    " 'Viper': {'kills': 0, 'assists': 2, 'deaths': False},\n",
    " 'Frost': {'kills': 1, 'assists': 1, 'deaths': True},\n",
    " 'Reaper': {'kills': 1, 'assists': 1, 'deaths': False}\n",
    " },\n",
    " {\n",
    " 'Shadow': {'kills': 1, 'assists': 2, 'deaths': True},\n",
    " 'Blaze': {'kills': 0, 'assists': 1, 'deaths': False},\n",
    " 'Viper': {'kills': 2, 'assists': 0, 'deaths': True},\n",
    " 'Frost': {'kills': 1, 'assists': 1, 'deaths': False},\n",
    " 'Reaper': {'kills': 1, 'assists': 1, 'deaths': True}\n",
    " }\n",
    " ]\n",
    "\n",
    "puntajes_totales = {}\n",
    "contadorMVP = {}\n",
    "funcionesPunto10.recorrerLista(rounds,puntajes_totales,contadorMVP)"
   ]
  }
 ],
 "metadata": {
  "language_info": {
   "name": "python"
  }
 },
 "nbformat": 4,
 "nbformat_minor": 2
}
